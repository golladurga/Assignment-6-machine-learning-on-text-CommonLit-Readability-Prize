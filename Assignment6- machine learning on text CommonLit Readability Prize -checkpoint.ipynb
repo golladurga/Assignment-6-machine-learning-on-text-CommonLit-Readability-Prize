{
 "cells": [
  {
   "cell_type": "code",
   "execution_count": 69,
   "id": "4ce51bac",
   "metadata": {},
   "outputs": [],
   "source": [
    "import pandas as pd\n",
    "import numpy as np\n",
    "import matplotlib.pyplot as plt\n",
    "import seaborn as sns\n",
    "import warnings \n",
    "warnings.filterwarnings(\"ignore\")"
   ]
  },
  {
   "cell_type": "code",
   "execution_count": 70,
   "id": "4f977200",
   "metadata": {},
   "outputs": [],
   "source": [
    "data_1 = pd.read_csv(\"C:\\\\Users\\\\dell\\\\Downloads\\\\train.csv\")\n",
    "data_2 = pd.read_csv(\"C:\\\\Users\\\\dell\\\\Downloads\\\\test.csv\")"
   ]
  },
  {
   "cell_type": "code",
   "execution_count": 71,
   "id": "2db5c6ea",
   "metadata": {},
   "outputs": [
    {
     "data": {
      "text/html": [
       "<div>\n",
       "<style scoped>\n",
       "    .dataframe tbody tr th:only-of-type {\n",
       "        vertical-align: middle;\n",
       "    }\n",
       "\n",
       "    .dataframe tbody tr th {\n",
       "        vertical-align: top;\n",
       "    }\n",
       "\n",
       "    .dataframe thead th {\n",
       "        text-align: right;\n",
       "    }\n",
       "</style>\n",
       "<table border=\"1\" class=\"dataframe\">\n",
       "  <thead>\n",
       "    <tr style=\"text-align: right;\">\n",
       "      <th></th>\n",
       "      <th>id</th>\n",
       "      <th>url_legal</th>\n",
       "      <th>license</th>\n",
       "      <th>excerpt</th>\n",
       "      <th>target</th>\n",
       "      <th>standard_error</th>\n",
       "    </tr>\n",
       "  </thead>\n",
       "  <tbody>\n",
       "    <tr>\n",
       "      <th>0</th>\n",
       "      <td>c12129c31</td>\n",
       "      <td>NaN</td>\n",
       "      <td>NaN</td>\n",
       "      <td>When the young people returned to the ballroom...</td>\n",
       "      <td>-0.340259</td>\n",
       "      <td>0.464009</td>\n",
       "    </tr>\n",
       "    <tr>\n",
       "      <th>1</th>\n",
       "      <td>85aa80a4c</td>\n",
       "      <td>NaN</td>\n",
       "      <td>NaN</td>\n",
       "      <td>All through dinner time, Mrs. Fayre was somewh...</td>\n",
       "      <td>-0.315372</td>\n",
       "      <td>0.480805</td>\n",
       "    </tr>\n",
       "    <tr>\n",
       "      <th>2</th>\n",
       "      <td>b69ac6792</td>\n",
       "      <td>NaN</td>\n",
       "      <td>NaN</td>\n",
       "      <td>As Roger had predicted, the snow departed as q...</td>\n",
       "      <td>-0.580118</td>\n",
       "      <td>0.476676</td>\n",
       "    </tr>\n",
       "    <tr>\n",
       "      <th>3</th>\n",
       "      <td>dd1000b26</td>\n",
       "      <td>NaN</td>\n",
       "      <td>NaN</td>\n",
       "      <td>And outside before the palace a great garden w...</td>\n",
       "      <td>-1.054013</td>\n",
       "      <td>0.450007</td>\n",
       "    </tr>\n",
       "    <tr>\n",
       "      <th>4</th>\n",
       "      <td>37c1b32fb</td>\n",
       "      <td>NaN</td>\n",
       "      <td>NaN</td>\n",
       "      <td>Once upon a time there were Three Bears who li...</td>\n",
       "      <td>0.247197</td>\n",
       "      <td>0.510845</td>\n",
       "    </tr>\n",
       "  </tbody>\n",
       "</table>\n",
       "</div>"
      ],
      "text/plain": [
       "          id url_legal license  \\\n",
       "0  c12129c31       NaN     NaN   \n",
       "1  85aa80a4c       NaN     NaN   \n",
       "2  b69ac6792       NaN     NaN   \n",
       "3  dd1000b26       NaN     NaN   \n",
       "4  37c1b32fb       NaN     NaN   \n",
       "\n",
       "                                             excerpt    target  standard_error  \n",
       "0  When the young people returned to the ballroom... -0.340259        0.464009  \n",
       "1  All through dinner time, Mrs. Fayre was somewh... -0.315372        0.480805  \n",
       "2  As Roger had predicted, the snow departed as q... -0.580118        0.476676  \n",
       "3  And outside before the palace a great garden w... -1.054013        0.450007  \n",
       "4  Once upon a time there were Three Bears who li...  0.247197        0.510845  "
      ]
     },
     "execution_count": 71,
     "metadata": {},
     "output_type": "execute_result"
    }
   ],
   "source": [
    "data_1.head()"
   ]
  },
  {
   "cell_type": "code",
   "execution_count": 72,
   "id": "f3c0b354",
   "metadata": {},
   "outputs": [
    {
     "data": {
      "text/html": [
       "<div>\n",
       "<style scoped>\n",
       "    .dataframe tbody tr th:only-of-type {\n",
       "        vertical-align: middle;\n",
       "    }\n",
       "\n",
       "    .dataframe tbody tr th {\n",
       "        vertical-align: top;\n",
       "    }\n",
       "\n",
       "    .dataframe thead th {\n",
       "        text-align: right;\n",
       "    }\n",
       "</style>\n",
       "<table border=\"1\" class=\"dataframe\">\n",
       "  <thead>\n",
       "    <tr style=\"text-align: right;\">\n",
       "      <th></th>\n",
       "      <th>id</th>\n",
       "      <th>url_legal</th>\n",
       "      <th>license</th>\n",
       "      <th>excerpt</th>\n",
       "    </tr>\n",
       "  </thead>\n",
       "  <tbody>\n",
       "    <tr>\n",
       "      <th>0</th>\n",
       "      <td>c0f722661</td>\n",
       "      <td>NaN</td>\n",
       "      <td>NaN</td>\n",
       "      <td>My hope lay in Jack's promise that he would ke...</td>\n",
       "    </tr>\n",
       "    <tr>\n",
       "      <th>1</th>\n",
       "      <td>f0953f0a5</td>\n",
       "      <td>NaN</td>\n",
       "      <td>NaN</td>\n",
       "      <td>Dotty continued to go to Mrs. Gray's every nig...</td>\n",
       "    </tr>\n",
       "    <tr>\n",
       "      <th>2</th>\n",
       "      <td>0df072751</td>\n",
       "      <td>NaN</td>\n",
       "      <td>NaN</td>\n",
       "      <td>It was a bright and cheerful scene that greete...</td>\n",
       "    </tr>\n",
       "    <tr>\n",
       "      <th>3</th>\n",
       "      <td>04caf4e0c</td>\n",
       "      <td>https://en.wikipedia.org/wiki/Cell_division</td>\n",
       "      <td>CC BY-SA 3.0</td>\n",
       "      <td>Cell division is the process by which a parent...</td>\n",
       "    </tr>\n",
       "    <tr>\n",
       "      <th>4</th>\n",
       "      <td>0e63f8bea</td>\n",
       "      <td>https://en.wikipedia.org/wiki/Debugging</td>\n",
       "      <td>CC BY-SA 3.0</td>\n",
       "      <td>Debugging is the process of finding and resolv...</td>\n",
       "    </tr>\n",
       "  </tbody>\n",
       "</table>\n",
       "</div>"
      ],
      "text/plain": [
       "          id                                    url_legal       license  \\\n",
       "0  c0f722661                                          NaN           NaN   \n",
       "1  f0953f0a5                                          NaN           NaN   \n",
       "2  0df072751                                          NaN           NaN   \n",
       "3  04caf4e0c  https://en.wikipedia.org/wiki/Cell_division  CC BY-SA 3.0   \n",
       "4  0e63f8bea      https://en.wikipedia.org/wiki/Debugging  CC BY-SA 3.0   \n",
       "\n",
       "                                             excerpt  \n",
       "0  My hope lay in Jack's promise that he would ke...  \n",
       "1  Dotty continued to go to Mrs. Gray's every nig...  \n",
       "2  It was a bright and cheerful scene that greete...  \n",
       "3  Cell division is the process by which a parent...  \n",
       "4  Debugging is the process of finding and resolv...  "
      ]
     },
     "execution_count": 72,
     "metadata": {},
     "output_type": "execute_result"
    }
   ],
   "source": [
    "data_2.head()"
   ]
  },
  {
   "cell_type": "code",
   "execution_count": 73,
   "id": "7181e6d8",
   "metadata": {},
   "outputs": [
    {
     "data": {
      "text/plain": [
       "(2834, 6)"
      ]
     },
     "execution_count": 73,
     "metadata": {},
     "output_type": "execute_result"
    }
   ],
   "source": [
    "data_1.shape"
   ]
  },
  {
   "cell_type": "code",
   "execution_count": 74,
   "id": "e485a6e0",
   "metadata": {},
   "outputs": [
    {
     "data": {
      "text/plain": [
       "(7, 4)"
      ]
     },
     "execution_count": 74,
     "metadata": {},
     "output_type": "execute_result"
    }
   ],
   "source": [
    "data_2.shape"
   ]
  },
  {
   "cell_type": "code",
   "execution_count": 75,
   "id": "99c0ab79",
   "metadata": {},
   "outputs": [
    {
     "name": "stdout",
     "output_type": "stream",
     "text": [
      "<class 'pandas.core.frame.DataFrame'>\n",
      "RangeIndex: 2834 entries, 0 to 2833\n",
      "Data columns (total 6 columns):\n",
      " #   Column          Non-Null Count  Dtype  \n",
      "---  ------          --------------  -----  \n",
      " 0   id              2834 non-null   object \n",
      " 1   url_legal       830 non-null    object \n",
      " 2   license         830 non-null    object \n",
      " 3   excerpt         2834 non-null   object \n",
      " 4   target          2834 non-null   float64\n",
      " 5   standard_error  2834 non-null   float64\n",
      "dtypes: float64(2), object(4)\n",
      "memory usage: 133.0+ KB\n"
     ]
    }
   ],
   "source": [
    "data_1.info()"
   ]
  },
  {
   "cell_type": "code",
   "execution_count": 76,
   "id": "693bfe29",
   "metadata": {},
   "outputs": [
    {
     "name": "stdout",
     "output_type": "stream",
     "text": [
      "<class 'pandas.core.frame.DataFrame'>\n",
      "RangeIndex: 7 entries, 0 to 6\n",
      "Data columns (total 4 columns):\n",
      " #   Column     Non-Null Count  Dtype \n",
      "---  ------     --------------  ----- \n",
      " 0   id         7 non-null      object\n",
      " 1   url_legal  3 non-null      object\n",
      " 2   license    3 non-null      object\n",
      " 3   excerpt    7 non-null      object\n",
      "dtypes: object(4)\n",
      "memory usage: 352.0+ bytes\n"
     ]
    }
   ],
   "source": [
    "data_2.info()"
   ]
  },
  {
   "cell_type": "code",
   "execution_count": 77,
   "id": "0413fb4d",
   "metadata": {},
   "outputs": [
    {
     "data": {
      "text/plain": [
       "id                 0.00\n",
       "url_legal         20.04\n",
       "license           20.04\n",
       "excerpt            0.00\n",
       "target             0.00\n",
       "standard_error     0.00\n",
       "dtype: float64"
      ]
     },
     "execution_count": 77,
     "metadata": {},
     "output_type": "execute_result"
    }
   ],
   "source": [
    "data_1.isnull().sum()/100"
   ]
  },
  {
   "cell_type": "code",
   "execution_count": 78,
   "id": "96b1c7d5",
   "metadata": {},
   "outputs": [
    {
     "data": {
      "text/plain": [
       "id           0.00\n",
       "url_legal    0.04\n",
       "license      0.04\n",
       "excerpt      0.00\n",
       "dtype: float64"
      ]
     },
     "execution_count": 78,
     "metadata": {},
     "output_type": "execute_result"
    }
   ],
   "source": [
    "data_2.isnull().sum()/100"
   ]
  },
  {
   "cell_type": "code",
   "execution_count": 79,
   "id": "e3028174",
   "metadata": {},
   "outputs": [
    {
     "data": {
      "text/html": [
       "<div>\n",
       "<style scoped>\n",
       "    .dataframe tbody tr th:only-of-type {\n",
       "        vertical-align: middle;\n",
       "    }\n",
       "\n",
       "    .dataframe tbody tr th {\n",
       "        vertical-align: top;\n",
       "    }\n",
       "\n",
       "    .dataframe thead th {\n",
       "        text-align: right;\n",
       "    }\n",
       "</style>\n",
       "<table border=\"1\" class=\"dataframe\">\n",
       "  <thead>\n",
       "    <tr style=\"text-align: right;\">\n",
       "      <th></th>\n",
       "      <th>excerpt</th>\n",
       "      <th>target</th>\n",
       "    </tr>\n",
       "  </thead>\n",
       "  <tbody>\n",
       "    <tr>\n",
       "      <th>0</th>\n",
       "      <td>When the young people returned to the ballroom...</td>\n",
       "      <td>-0.340259</td>\n",
       "    </tr>\n",
       "    <tr>\n",
       "      <th>1</th>\n",
       "      <td>All through dinner time, Mrs. Fayre was somewh...</td>\n",
       "      <td>-0.315372</td>\n",
       "    </tr>\n",
       "    <tr>\n",
       "      <th>2</th>\n",
       "      <td>As Roger had predicted, the snow departed as q...</td>\n",
       "      <td>-0.580118</td>\n",
       "    </tr>\n",
       "    <tr>\n",
       "      <th>3</th>\n",
       "      <td>And outside before the palace a great garden w...</td>\n",
       "      <td>-1.054013</td>\n",
       "    </tr>\n",
       "    <tr>\n",
       "      <th>4</th>\n",
       "      <td>Once upon a time there were Three Bears who li...</td>\n",
       "      <td>0.247197</td>\n",
       "    </tr>\n",
       "  </tbody>\n",
       "</table>\n",
       "</div>"
      ],
      "text/plain": [
       "                                             excerpt    target\n",
       "0  When the young people returned to the ballroom... -0.340259\n",
       "1  All through dinner time, Mrs. Fayre was somewh... -0.315372\n",
       "2  As Roger had predicted, the snow departed as q... -0.580118\n",
       "3  And outside before the palace a great garden w... -1.054013\n",
       "4  Once upon a time there were Three Bears who li...  0.247197"
      ]
     },
     "execution_count": 79,
     "metadata": {},
     "output_type": "execute_result"
    }
   ],
   "source": [
    "data_1 = data_1.drop([\"id\",\"url_legal\",\"license\",\"standard_error\"],axis = 1)\n",
    "data_1.head()"
   ]
  },
  {
   "cell_type": "code",
   "execution_count": 80,
   "id": "a998e9f0",
   "metadata": {},
   "outputs": [
    {
     "data": {
      "text/html": [
       "<div>\n",
       "<style scoped>\n",
       "    .dataframe tbody tr th:only-of-type {\n",
       "        vertical-align: middle;\n",
       "    }\n",
       "\n",
       "    .dataframe tbody tr th {\n",
       "        vertical-align: top;\n",
       "    }\n",
       "\n",
       "    .dataframe thead th {\n",
       "        text-align: right;\n",
       "    }\n",
       "</style>\n",
       "<table border=\"1\" class=\"dataframe\">\n",
       "  <thead>\n",
       "    <tr style=\"text-align: right;\">\n",
       "      <th></th>\n",
       "      <th>excerpt</th>\n",
       "    </tr>\n",
       "  </thead>\n",
       "  <tbody>\n",
       "    <tr>\n",
       "      <th>0</th>\n",
       "      <td>My hope lay in Jack's promise that he would ke...</td>\n",
       "    </tr>\n",
       "    <tr>\n",
       "      <th>1</th>\n",
       "      <td>Dotty continued to go to Mrs. Gray's every nig...</td>\n",
       "    </tr>\n",
       "    <tr>\n",
       "      <th>2</th>\n",
       "      <td>It was a bright and cheerful scene that greete...</td>\n",
       "    </tr>\n",
       "    <tr>\n",
       "      <th>3</th>\n",
       "      <td>Cell division is the process by which a parent...</td>\n",
       "    </tr>\n",
       "    <tr>\n",
       "      <th>4</th>\n",
       "      <td>Debugging is the process of finding and resolv...</td>\n",
       "    </tr>\n",
       "  </tbody>\n",
       "</table>\n",
       "</div>"
      ],
      "text/plain": [
       "                                             excerpt\n",
       "0  My hope lay in Jack's promise that he would ke...\n",
       "1  Dotty continued to go to Mrs. Gray's every nig...\n",
       "2  It was a bright and cheerful scene that greete...\n",
       "3  Cell division is the process by which a parent...\n",
       "4  Debugging is the process of finding and resolv..."
      ]
     },
     "execution_count": 80,
     "metadata": {},
     "output_type": "execute_result"
    }
   ],
   "source": [
    "data_2 = data_2.drop([\"id\",\"url_legal\",\"license\"],axis=1)\n",
    "data_2.head()"
   ]
  },
  {
   "cell_type": "code",
   "execution_count": 81,
   "id": "9da43e88",
   "metadata": {},
   "outputs": [
    {
     "data": {
      "text/plain": [
       "0       When the young people returned to the ballroom...\n",
       "1       All through dinner time, Mrs. Fayre was somewh...\n",
       "2       As Roger had predicted, the snow departed as q...\n",
       "3       And outside before the palace a great garden w...\n",
       "4       Once upon a time there were Three Bears who li...\n",
       "                              ...                        \n",
       "2829    When you think of dinosaurs and where they liv...\n",
       "2830    So what is a solid? Solids are usually hard be...\n",
       "2831    The second state of matter we will discuss is ...\n",
       "2832    Solids are shapes that you can actually touch....\n",
       "2833    Animals are made of many cells. They eat thing...\n",
       "Name: excerpt, Length: 2834, dtype: object"
      ]
     },
     "execution_count": 81,
     "metadata": {},
     "output_type": "execute_result"
    }
   ],
   "source": [
    "data_1[\"excerpt\"]"
   ]
  },
  {
   "cell_type": "code",
   "execution_count": 82,
   "id": "28c87f97",
   "metadata": {},
   "outputs": [
    {
     "data": {
      "text/plain": [
       "0    My hope lay in Jack's promise that he would ke...\n",
       "1    Dotty continued to go to Mrs. Gray's every nig...\n",
       "2    It was a bright and cheerful scene that greete...\n",
       "3    Cell division is the process by which a parent...\n",
       "4    Debugging is the process of finding and resolv...\n",
       "5    To explain transitivity, let us look first at ...\n",
       "6    Milka and John are playing in the garden. Her ...\n",
       "Name: excerpt, dtype: object"
      ]
     },
     "execution_count": 82,
     "metadata": {},
     "output_type": "execute_result"
    }
   ],
   "source": [
    "data_2[\"excerpt\"]"
   ]
  },
  {
   "cell_type": "code",
   "execution_count": 83,
   "id": "dd2185b5",
   "metadata": {},
   "outputs": [],
   "source": [
    "data_1[\"excerpt\"] = data_1[\"excerpt\"].str.lower()\n",
    "data_2[\"excerpt\"] = data_2[\"excerpt\"].str.lower()"
   ]
  },
  {
   "cell_type": "code",
   "execution_count": 84,
   "id": "fc089038",
   "metadata": {},
   "outputs": [],
   "source": [
    "import string\n",
    "punc = string.punctuation\n",
    "\n",
    "def remove_punc(x):\n",
    "    translator = str.maketrans(\" \",\" \",punc)\n",
    "    return x.translate(translator)\n",
    "\n",
    "data_1[\"excerpt\"] = data_1[\"excerpt\"].apply(lambda x:remove_punc(x))\n",
    "data_2[\"excerpt\"] = data_2[\"excerpt\"].apply(lambda x:remove_punc(x))"
   ]
  },
  {
   "cell_type": "code",
   "execution_count": 85,
   "id": "a7bf7fec",
   "metadata": {},
   "outputs": [],
   "source": [
    "from nltk.corpus import stopwords\n",
    "stop_words = stopwords.words('english')\n",
    "\n",
    "def remove_stopwords(text):\n",
    "    return ' '.join(word for word in text.split() if word not in stop_words)\n",
    "\n",
    "data_1[\"excerpt\"] = data_1[\"excerpt\"].apply(remove_stopwords)\n",
    "data_2[\"excerpt\"] = data_2[\"excerpt\"].apply(remove_stopwords)"
   ]
  },
  {
   "cell_type": "code",
   "execution_count": 86,
   "id": "8da58aa5",
   "metadata": {},
   "outputs": [
    {
     "data": {
      "text/html": [
       "<div>\n",
       "<style scoped>\n",
       "    .dataframe tbody tr th:only-of-type {\n",
       "        vertical-align: middle;\n",
       "    }\n",
       "\n",
       "    .dataframe tbody tr th {\n",
       "        vertical-align: top;\n",
       "    }\n",
       "\n",
       "    .dataframe thead th {\n",
       "        text-align: right;\n",
       "    }\n",
       "</style>\n",
       "<table border=\"1\" class=\"dataframe\">\n",
       "  <thead>\n",
       "    <tr style=\"text-align: right;\">\n",
       "      <th></th>\n",
       "      <th>excerpt</th>\n",
       "      <th>target</th>\n",
       "    </tr>\n",
       "  </thead>\n",
       "  <tbody>\n",
       "    <tr>\n",
       "      <th>2829</th>\n",
       "      <td>think dinosaurs lived picture see hot steamy s...</td>\n",
       "      <td>1.711390</td>\n",
       "    </tr>\n",
       "    <tr>\n",
       "      <th>2830</th>\n",
       "      <td>solid solids usually hard molecules packed tog...</td>\n",
       "      <td>0.189476</td>\n",
       "    </tr>\n",
       "    <tr>\n",
       "      <th>2831</th>\n",
       "      <td>second state matter discuss liquid solids hard...</td>\n",
       "      <td>0.255209</td>\n",
       "    </tr>\n",
       "    <tr>\n",
       "      <th>2832</th>\n",
       "      <td>solids shapes actually touch three dimensions ...</td>\n",
       "      <td>-0.215279</td>\n",
       "    </tr>\n",
       "    <tr>\n",
       "      <th>2833</th>\n",
       "      <td>animals made many cells eat things digest insi...</td>\n",
       "      <td>0.300779</td>\n",
       "    </tr>\n",
       "  </tbody>\n",
       "</table>\n",
       "</div>"
      ],
      "text/plain": [
       "                                                excerpt    target\n",
       "2829  think dinosaurs lived picture see hot steamy s...  1.711390\n",
       "2830  solid solids usually hard molecules packed tog...  0.189476\n",
       "2831  second state matter discuss liquid solids hard...  0.255209\n",
       "2832  solids shapes actually touch three dimensions ... -0.215279\n",
       "2833  animals made many cells eat things digest insi...  0.300779"
      ]
     },
     "execution_count": 86,
     "metadata": {},
     "output_type": "execute_result"
    }
   ],
   "source": [
    "data_1.tail()"
   ]
  },
  {
   "cell_type": "code",
   "execution_count": 87,
   "id": "cc57cfa7",
   "metadata": {},
   "outputs": [
    {
     "data": {
      "text/html": [
       "<div>\n",
       "<style scoped>\n",
       "    .dataframe tbody tr th:only-of-type {\n",
       "        vertical-align: middle;\n",
       "    }\n",
       "\n",
       "    .dataframe tbody tr th {\n",
       "        vertical-align: top;\n",
       "    }\n",
       "\n",
       "    .dataframe thead th {\n",
       "        text-align: right;\n",
       "    }\n",
       "</style>\n",
       "<table border=\"1\" class=\"dataframe\">\n",
       "  <thead>\n",
       "    <tr style=\"text-align: right;\">\n",
       "      <th></th>\n",
       "      <th>excerpt</th>\n",
       "    </tr>\n",
       "  </thead>\n",
       "  <tbody>\n",
       "    <tr>\n",
       "      <th>2</th>\n",
       "      <td>bright cheerful scene greeted eyes captain ray...</td>\n",
       "    </tr>\n",
       "    <tr>\n",
       "      <th>3</th>\n",
       "      <td>cell division process parent cell divides two ...</td>\n",
       "    </tr>\n",
       "    <tr>\n",
       "      <th>4</th>\n",
       "      <td>debugging process finding resolving defects pr...</td>\n",
       "    </tr>\n",
       "    <tr>\n",
       "      <th>5</th>\n",
       "      <td>explain transitivity let us look first totally...</td>\n",
       "    </tr>\n",
       "    <tr>\n",
       "      <th>6</th>\n",
       "      <td>milka john playing garden little sister playin...</td>\n",
       "    </tr>\n",
       "  </tbody>\n",
       "</table>\n",
       "</div>"
      ],
      "text/plain": [
       "                                             excerpt\n",
       "2  bright cheerful scene greeted eyes captain ray...\n",
       "3  cell division process parent cell divides two ...\n",
       "4  debugging process finding resolving defects pr...\n",
       "5  explain transitivity let us look first totally...\n",
       "6  milka john playing garden little sister playin..."
      ]
     },
     "execution_count": 87,
     "metadata": {},
     "output_type": "execute_result"
    }
   ],
   "source": [
    "data_2.tail()"
   ]
  },
  {
   "cell_type": "code",
   "execution_count": 88,
   "id": "fff64890",
   "metadata": {},
   "outputs": [],
   "source": [
    "import re\n",
    "\n",
    "def remove_digits(text):\n",
    "    return re.sub(\"[0-9]+\",\" \",text)\n",
    "\n",
    "data_1[\"excerpt\"] = data_1[\"excerpt\"].apply(remove_digits)\n",
    "data_2[\"excerpt\"] = data_2[\"excerpt\"].apply(remove_digits)"
   ]
  },
  {
   "cell_type": "code",
   "execution_count": 89,
   "id": "fa430b84",
   "metadata": {},
   "outputs": [],
   "source": [
    "def remove_url(text):\n",
    "    return re.sub(\"((www.[^s]+) | (https?://[^s]+))\",\" \",text)\n",
    "\n",
    "data_1[\"excerpt\"] = data_1[\"excerpt\"].apply(remove_url)\n",
    "data_2[\"excerpt\"] = data_2[\"excerpt\"].apply(remove_url)\n"
   ]
  },
  {
   "cell_type": "code",
   "execution_count": 90,
   "id": "b1184178",
   "metadata": {},
   "outputs": [],
   "source": [
    "regex = r'\\b(\\w+)(?:\\W+\\1\\b)+'\n",
    "\n",
    "def clean_repeat_words(text):\n",
    "    return re.sub(regex,\" \",text)\n",
    "\n",
    "data_1[\"excerpt\"] = data_1[\"excerpt\"].apply(clean_repeat_words)\n",
    "data_2[\"excerpt\"] = data_2[\"excerpt\"].apply(clean_repeat_words)"
   ]
  },
  {
   "cell_type": "code",
   "execution_count": null,
   "id": "c682a6c9",
   "metadata": {},
   "outputs": [],
   "source": [
    "from nltk.stem import PorterStemmer\n",
    "ps = PorterStemmer()\n",
    "\n",
    "def stemming_data(data):\n",
    "  text = [ps.stem(data) for word in data]\n",
    "  return data\n",
    "\n",
    "data_1[\"excerpt\"] = data_1[\"excerpt\"].apply(lambda x: stemming_data(x))\n",
    "data_2[\"excerpt\"] = data_2[\"excerpt\"].apply(lambda x: stemming_data(x))"
   ]
  },
  {
   "cell_type": "code",
   "execution_count": null,
   "id": "88828bac",
   "metadata": {},
   "outputs": [],
   "source": [
    "from nltk.stem import WordNetLemmatizer\n",
    "wnl = WordNetLemmatizer()\n",
    "\n",
    "def lemmatizer_on_text(data):\n",
    "    text = [wnl.lemmatize(word) for word in data]\n",
    "    return data\n",
    "\n",
    "data_1[\"excerpt\"] = data_1[\"excerpt\"].apply(lambda x: lemmatizer_on_text(x))\n",
    "data_2[\"excerpt\"] = data_2[\"excerpt\"].apply(lambda x: lemmatizer_on_text(x))"
   ]
  },
  {
   "cell_type": "code",
   "execution_count": null,
   "id": "ca8e356e",
   "metadata": {},
   "outputs": [],
   "source": [
    "X = data_1.drop('target', axis = 1)\n",
    "y = data_1['target']"
   ]
  },
  {
   "cell_type": "code",
   "execution_count": null,
   "id": "c84ac4d6",
   "metadata": {},
   "outputs": [],
   "source": [
    "from sklearn.model_selection import train_test_split\n",
    "X_train, X_test, y_train, y_test = train_test_split(X, y, test_size = 0.2, random_state = 0)"
   ]
  },
  {
   "cell_type": "code",
   "execution_count": null,
   "id": "10e6f9b7",
   "metadata": {},
   "outputs": [],
   "source": [
    "from sklearn.feature_extraction.text import CountVectorizer\n",
    "cv = CountVectorizer()\n",
    "cv"
   ]
  },
  {
   "cell_type": "code",
   "execution_count": null,
   "id": "2831ffd5",
   "metadata": {},
   "outputs": [],
   "source": [
    "cv.fit(X_train['excerpt'].values)"
   ]
  },
  {
   "cell_type": "code",
   "execution_count": null,
   "id": "37a47a1b",
   "metadata": {},
   "outputs": [],
   "source": [
    "X_train = cv.transform(X_train['excerpt'])\n",
    "X_test = cv.transform(X_test['excerpt'])"
   ]
  },
  {
   "cell_type": "code",
   "execution_count": null,
   "id": "7c0561d5",
   "metadata": {},
   "outputs": [],
   "source": [
    "from sklearn.linear_model import LinearRegression\n",
    "lr = LinearRegression()\n",
    "lr"
   ]
  },
  {
   "cell_type": "code",
   "execution_count": null,
   "id": "763d8aac",
   "metadata": {},
   "outputs": [],
   "source": []
  },
  {
   "cell_type": "code",
   "execution_count": null,
   "id": "f6bbf40b",
   "metadata": {},
   "outputs": [],
   "source": []
  }
 ],
 "metadata": {
  "kernelspec": {
   "display_name": "Python 3 (ipykernel)",
   "language": "python",
   "name": "python3"
  },
  "language_info": {
   "codemirror_mode": {
    "name": "ipython",
    "version": 3
   },
   "file_extension": ".py",
   "mimetype": "text/x-python",
   "name": "python",
   "nbconvert_exporter": "python",
   "pygments_lexer": "ipython3",
   "version": "3.10.9"
  }
 },
 "nbformat": 4,
 "nbformat_minor": 5
}
